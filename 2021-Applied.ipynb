{
 "cells": [
  {
   "cell_type": "raw",
   "metadata": {},
   "source": [
    "---\n",
    "title: \"2021-Applied-Code\"\n",
    "format: html\n",
    "---"
   ]
  },
  {
   "cell_type": "code",
   "execution_count": 2,
   "metadata": {},
   "outputs": [],
   "source": [
    "#| include: false\n",
    "\n",
    "import pandas as pd\n",
    "import numpy as np\n",
    "import matplotlib.pyplot as plt\n",
    "import seaborn as sns"
   ]
  },
  {
   "cell_type": "code",
   "execution_count": 3,
   "metadata": {},
   "outputs": [],
   "source": [
    "#| include: false\n",
    "%load_ext rpy2.ipython"
   ]
  },
  {
   "attachments": {},
   "cell_type": "markdown",
   "metadata": {},
   "source": [
    "## 4.\n",
    "15 pts Imagine that you are in a meeting to devise a statistical analysis plan for an upcoming cohort study of N = 3,000 subjects (to be sampled independently) in which the primary aim is to compare some continuous outcome, Y , between two groups defined by an exposure status. The exposure occurs in about one-third of individuals in the population. Is is suspected a priori that the outcome variance in the exposed group will be substantively larger in the exposed group as compared to the unexposed group (due to, e.g., heterogeneous response to the exposure). Despite this, your collaborator suggests Student’s t-test (i.e., the t-test that assumes equal variances between groups) in order test the hypothesis of a nonzero mean difference, as this has been standard in the literature. As the group’s biostatistician, you perform a simulation to illustrate the possible pitfalls of this approach. The R function to conduct the simulation is shown below (mind the line numbers on the left-hand side, as questions (a)-(e) below refer to them):"
   ]
  },
  {
   "cell_type": "code",
   "execution_count": 4,
   "metadata": {},
   "outputs": [
    {
     "name": "stdout",
     "output_type": "stream",
     "text": [
      "[1] 0.07926\n"
     ]
    }
   ],
   "source": [
    "%%R\n",
    "## add notation for the R code\n",
    "simulation <- function(N, p.exp, sigma0, k, nsim, seed) {\n",
    "set.seed(seed) # set seed\n",
    "results <- matrix(0, ncol = 1, nrow = nsim) # initialize results\n",
    "for (j in 1:nsim) { # loop over nsim\n",
    "x <- rbinom(n = N, size = 1, prob = p.exp) # generate x\n",
    "N1 <- sum(x) # number of treated\n",
    "N0 <- N - sum(x) # number of control\n",
    "y0 <- rnorm(n = N0, mean = 0, sd = sigma0) # generate y0\n",
    "y1 <- rnorm(n = N1, mean = 0, sd = sqrt(k * sigma0^2)) # generate y1\n",
    "p <- t.test(x = y0, y = y1, var.eq = TRUE)$p.value # t-test\n",
    "results[j, 1] <- as.numeric(p < 0.05) # store results\n",
    "}\n",
    "return(colMeans(results)) # return the average\n",
    "}\n",
    "\n",
    "simulation(N=3000, p.exp=1/3,  sigma0=10, k=2, nsim=50000, seed=2021)"
   ]
  },
  {
   "attachments": {},
   "cell_type": "markdown",
   "metadata": {},
   "source": [
    "(a) Briefly explain the major purpose of the seed argument (referred to on Line 3).\n",
    "\n",
    "(b) Briefly explain what Lines 7-9 of the simulation code are doing.\n",
    "\n",
    "(c) Briefly explain the role of the k argument (referred to on Line 11).\n",
    "\n",
    "(d) In the language of hypothesis testing, what does the number “0.05” refer to on Line 13?\n",
    "\n",
    "(e) In the language of hypothesis testing, what is the value returned by the function (Line 15)?\n",
    "\n",
    "(f) Briefly summarize the main result of the simulation study and highlight the importance of its implica- tions.\n",
    "\n",
    "(g) What alternative test would you suggest to answer your collaborator’s scientific question?\n",
    "\n",
    "(h) Illustrate the advantage of the approach you identified in part (g) by re-running the simulation study under the same setup, but making a single key modification to the function. Specifically state the change you’ve made, and briefly summarize your findings."
   ]
  },
  {
   "cell_type": "code",
   "execution_count": 5,
   "metadata": {},
   "outputs": [
    {
     "name": "stdout",
     "output_type": "stream",
     "text": [
      "[1] 0.04986\n"
     ]
    }
   ],
   "source": [
    "%%R\n",
    "## add notation for the R code\n",
    "simulation <- function(N, p.exp, sigma0, k, nsim, seed) {\n",
    "set.seed(seed) # set seed\n",
    "results <- matrix(0, ncol = 1, nrow = nsim) # initialize results\n",
    "for (j in 1:nsim) { # loop over nsim\n",
    "x <- rbinom(n = N, size = 1, prob = p.exp) # generate x\n",
    "N1 <- sum(x) # number of treated\n",
    "N0 <- N - sum(x) # number of control\n",
    "y0 <- rnorm(n = N0, mean = 0, sd = sigma0) # generate y0\n",
    "y1 <- rnorm(n = N1, mean = 0, sd = sqrt(k * sigma0^2)) # generate y1\n",
    "p <- t.test(x = y0, y = y1, var.eq = F)$p.value # t-test unequal variance\n",
    "results[j, 1] <- as.numeric(p < 0.05) # store results\n",
    "}\n",
    "return(colMeans(results)) # return the average\n",
    "}\n",
    "\n",
    "simulation(N=3000, p.exp=1/3,  sigma0=10, k=2, nsim=50000, seed=2021)"
   ]
  },
  {
   "attachments": {},
   "cell_type": "markdown",
   "metadata": {},
   "source": [
    "## 5.\n",
    "50 pts Suppose you are working with a team that is interested in understanding the link between recreational drug use and subsequent visits to the emergency room (ER). They collect data on N = 400 independently sampled individuals and survey them on their history of drug use. If a subject had an ER visit within five years of study enrollment, it was noted (data set: er.csv). The variables in the data set are as follows:"
   ]
  },
  {
   "cell_type": "code",
   "execution_count": 6,
   "metadata": {},
   "outputs": [
    {
     "data": {
      "text/html": [
       "<div>\n",
       "<style scoped>\n",
       "    .dataframe tbody tr th:only-of-type {\n",
       "        vertical-align: middle;\n",
       "    }\n",
       "\n",
       "    .dataframe tbody tr th {\n",
       "        vertical-align: top;\n",
       "    }\n",
       "\n",
       "    .dataframe thead th {\n",
       "        text-align: right;\n",
       "    }\n",
       "</style>\n",
       "<table border=\"1\" class=\"dataframe\">\n",
       "  <thead>\n",
       "    <tr style=\"text-align: right;\">\n",
       "      <th></th>\n",
       "      <th>agegrp</th>\n",
       "      <th>tob</th>\n",
       "      <th>alc</th>\n",
       "      <th>mrj</th>\n",
       "      <th>illeg</th>\n",
       "      <th>er</th>\n",
       "    </tr>\n",
       "  </thead>\n",
       "  <tbody>\n",
       "    <tr>\n",
       "      <th>0</th>\n",
       "      <td>3</td>\n",
       "      <td>0</td>\n",
       "      <td>1</td>\n",
       "      <td>0</td>\n",
       "      <td>0</td>\n",
       "      <td>0</td>\n",
       "    </tr>\n",
       "    <tr>\n",
       "      <th>1</th>\n",
       "      <td>0</td>\n",
       "      <td>0</td>\n",
       "      <td>1</td>\n",
       "      <td>1</td>\n",
       "      <td>1</td>\n",
       "      <td>0</td>\n",
       "    </tr>\n",
       "    <tr>\n",
       "      <th>2</th>\n",
       "      <td>3</td>\n",
       "      <td>0</td>\n",
       "      <td>0</td>\n",
       "      <td>0</td>\n",
       "      <td>0</td>\n",
       "      <td>1</td>\n",
       "    </tr>\n",
       "    <tr>\n",
       "      <th>3</th>\n",
       "      <td>1</td>\n",
       "      <td>0</td>\n",
       "      <td>1</td>\n",
       "      <td>0</td>\n",
       "      <td>0</td>\n",
       "      <td>0</td>\n",
       "    </tr>\n",
       "    <tr>\n",
       "      <th>4</th>\n",
       "      <td>1</td>\n",
       "      <td>0</td>\n",
       "      <td>1</td>\n",
       "      <td>0</td>\n",
       "      <td>1</td>\n",
       "      <td>0</td>\n",
       "    </tr>\n",
       "  </tbody>\n",
       "</table>\n",
       "</div>"
      ],
      "text/plain": [
       "   agegrp  tob  alc  mrj  illeg  er\n",
       "0       3    0    1    0      0   0\n",
       "1       0    0    1    1      1   0\n",
       "2       3    0    0    0      0   1\n",
       "3       1    0    1    0      0   0\n",
       "4       1    0    1    0      1   0"
      ]
     },
     "execution_count": 6,
     "metadata": {},
     "output_type": "execute_result"
    }
   ],
   "source": [
    "er = pd.read_csv(\"./er.csv\")\n",
    "er.head()"
   ]
  },
  {
   "attachments": {},
   "cell_type": "markdown",
   "metadata": {},
   "source": [
    "(a) Briefly summarize the distribution of variables in the data set. You may include tables and figures if you choose, but your response should not exceed one double-spaced page (tables and figures included)."
   ]
  },
  {
   "cell_type": "code",
   "execution_count": 13,
   "metadata": {},
   "outputs": [
    {
     "name": "stdout",
     "output_type": "stream",
     "text": [
      "agegrp   0   1   2   3   4\n",
      "er                        \n",
      "0       79  58  51  68  48\n",
      "1       22  26  11  17  20\n",
      "\n",
      "tob    0   1\n",
      "er          \n",
      "0    239  65\n",
      "1     67  29\n",
      "\n",
      "alc    0    1\n",
      "er           \n",
      "0    153  151\n",
      "1     57   39\n",
      "\n",
      "mrj    0   1\n",
      "er          \n",
      "0    273  31\n",
      "1     77  19\n",
      "\n",
      "illeg    0   1\n",
      "er            \n",
      "0      286  18\n",
      "1       95   1\n",
      "\n"
     ]
    }
   ],
   "source": [
    "#| echo: false\n",
    "### make 2x2 table of every variable vs er\n",
    "def make_table(df, var):\n",
    "    df = df[[\"er\", var]]\n",
    "    df = df.groupby([\"er\", var]).size().reset_index(name='counts')\n",
    "    df = df.pivot(index='er', columns=var, values='counts')\n",
    "    df = df.fillna(0)\n",
    "    df = df.astype(int)\n",
    "    return df\n",
    "\n",
    "for cname in er.columns:\n",
    "    if cname != \"er\":\n",
    "        print(make_table(er, cname))\n",
    "        print()"
   ]
  },
  {
   "attachments": {},
   "cell_type": "markdown",
   "metadata": {},
   "source": [
    "(b) Perform a principled analysis in which you investigate the association between recreational drug use and ER visits. When writing your response:\n",
    "\n",
    "• Remember that this is an open-ended question in which there are multiple defensible ways to respond. Please select and implement only one approach (that may or may not involve results from more than one model).\n",
    "\n",
    "• Describe the method you are implementing such that it could essentially be replicated without having to look at your code.\n",
    "\n",
    "• Clearly state and briefly defend any choices you make in your analysis.\n",
    "\n",
    "• Present and interpret your results using suitable measures of association that could be understand-\n",
    "able to a scientific collaborator.\n",
    "\n",
    "• You may include tables and/or figures if you believe they will aid the presentation of your response.\n",
    "\n",
    "• Concede at least one limitation of the approach you choose.\n",
    "\n",
    "• Your response should be no longer than two double-spaced pages (including tables and figures, but\n",
    "excluding code.\n",
    "\n",
    "• Please present code only as an appendix."
   ]
  },
  {
   "cell_type": "code",
   "execution_count": 25,
   "metadata": {},
   "outputs": [
    {
     "name": "stdout",
     "output_type": "stream",
     "text": [
      "Optimization terminated successfully.\n",
      "         Current function value: 0.522541\n",
      "         Iterations 7\n",
      "                           Logit Regression Results                           \n",
      "==============================================================================\n",
      "Dep. Variable:                     er   No. Observations:                  400\n",
      "Model:                          Logit   Df Residuals:                      395\n",
      "Method:                           MLE   Df Model:                            4\n",
      "Date:                Thu, 11 May 2023   Pseudo R-squ.:                 0.05179\n",
      "Time:                        13:04:52   Log-Likelihood:                -209.02\n",
      "converged:                       True   LL-Null:                       -220.43\n",
      "Covariance Type:            nonrobust   LLR p-value:                 0.0001368\n",
      "==============================================================================\n",
      "                 coef    std err          z      P>|z|      [0.025      0.975]\n",
      "------------------------------------------------------------------------------\n",
      "Intercept     -1.1091      0.164     -6.772      0.000      -1.430      -0.788\n",
      "tob            0.5126      0.302      1.697      0.090      -0.079       1.104\n",
      "alc           -0.5861      0.263     -2.226      0.026      -1.102      -0.070\n",
      "mrj            1.1660      0.375      3.111      0.002       0.431       1.901\n",
      "illeg         -2.4845      1.067     -2.328      0.020      -4.577      -0.392\n",
      "==============================================================================\n"
     ]
    }
   ],
   "source": [
    "#| echo: false\n",
    "# Perform a anova test on drugs\n",
    "\n",
    "# build a logistic model on er vs tob+alc+mrj+illeg\n",
    "from statsmodels.formula.api import logit\n",
    "\n",
    "model = logit(\"er ~ tob + alc + mrj + illeg\", data=er).fit()\n",
    "print(model.summary())"
   ]
  },
  {
   "attachments": {},
   "cell_type": "markdown",
   "metadata": {},
   "source": [
    "Based on the F-statistcs, which is anova test for the null hypothesis that at least one of the coefficients is nonzero, we can reject the null hypothesis that all coefficients are zero. This means that at least one of the coefficients is nonzero."
   ]
  },
  {
   "attachments": {},
   "cell_type": "markdown",
   "metadata": {},
   "source": [
    "(c) Perform a principled analysis in which you evaluate the overall out-of-sample predictive ability of recre- ational drug use as predictors for ER visits. When writing your response:\n"
   ]
  },
  {
   "cell_type": "code",
   "execution_count": 21,
   "metadata": {},
   "outputs": [],
   "source": [
    "#| echo: false\n",
    "# create data partition\n",
    "from sklearn.model_selection import train_test_split\n",
    "\n",
    "X = er[[\"tob\", \"alc\", \"mrj\", \"illeg\"]]\n",
    "y = er[\"er\"]\n",
    "\n",
    "X_train, X_test, y_train, y_test = train_test_split(X, y, test_size=0.5, random_state=123123)\n"
   ]
  },
  {
   "cell_type": "code",
   "execution_count": 30,
   "metadata": {},
   "outputs": [
    {
     "name": "stdout",
     "output_type": "stream",
     "text": [
      "Accuracy: 0.755\n"
     ]
    }
   ],
   "source": [
    "#| echo: false\n",
    "# build a logistic model on the training set\n",
    "from sklearn.linear_model import LogisticRegression\n",
    "\n",
    "model = LogisticRegression().fit(X_train, y_train)\n",
    "\n",
    "# predict on the test set and compute accuracy\n",
    "y_pred = model.predict(X_test)\n",
    "print(\"Accuracy:\", np.mean(y_pred == y_test))\n"
   ]
  }
 ],
 "metadata": {
  "kernelspec": {
   "display_name": "r",
   "language": "python",
   "name": "python3"
  },
  "language_info": {
   "codemirror_mode": {
    "name": "ipython",
    "version": 3
   },
   "file_extension": ".py",
   "mimetype": "text/x-python",
   "name": "python",
   "nbconvert_exporter": "python",
   "pygments_lexer": "ipython3",
   "version": "3.11.3"
  },
  "orig_nbformat": 4
 },
 "nbformat": 4,
 "nbformat_minor": 2
}
