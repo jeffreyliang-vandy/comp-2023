{
 "cells": [
  {
   "cell_type": "raw",
   "metadata": {},
   "source": [
    "---\n",
    "title: \"Untitled\"\n",
    "format: html\n",
    "---"
   ]
  },
  {
   "cell_type": "code",
   "execution_count": 1,
   "metadata": {
    "vscode": {
     "languageId": "r"
    }
   },
   "outputs": [
    {
     "name": "stderr",
     "output_type": "stream",
     "text": [
      "── \u001b[1mAttaching packages\u001b[22m ─────────────────────────────────────── tidyverse 1.3.2 ──\n",
      "\u001b[32m✔\u001b[39m \u001b[34mggplot2\u001b[39m 3.4.2     \u001b[32m✔\u001b[39m \u001b[34mpurrr  \u001b[39m 1.0.1\n",
      "\u001b[32m✔\u001b[39m \u001b[34mtibble \u001b[39m 3.2.1     \u001b[32m✔\u001b[39m \u001b[34mdplyr  \u001b[39m 1.1.2\n",
      "\u001b[32m✔\u001b[39m \u001b[34mtidyr  \u001b[39m 1.3.0     \u001b[32m✔\u001b[39m \u001b[34mstringr\u001b[39m 1.5.0\n",
      "\u001b[32m✔\u001b[39m \u001b[34mreadr  \u001b[39m 2.1.4     \u001b[32m✔\u001b[39m \u001b[34mforcats\u001b[39m 1.0.0\n",
      "Warning message:\n",
      "“package ‘ggplot2’ was built under R version 4.2.3”\n",
      "Warning message:\n",
      "“package ‘tibble’ was built under R version 4.2.3”\n",
      "Warning message:\n",
      "“package ‘dplyr’ was built under R version 4.2.3”\n",
      "── \u001b[1mConflicts\u001b[22m ────────────────────────────────────────── tidyverse_conflicts() ──\n",
      "\u001b[31m✖\u001b[39m \u001b[34mdplyr\u001b[39m::\u001b[32mfilter()\u001b[39m masks \u001b[34mstats\u001b[39m::filter()\n",
      "\u001b[31m✖\u001b[39m \u001b[34mdplyr\u001b[39m::\u001b[32mlag()\u001b[39m    masks \u001b[34mstats\u001b[39m::lag()\n",
      "\n",
      "Attaching package: ‘kableExtra’\n",
      "\n",
      "\n",
      "The following object is masked from ‘package:dplyr’:\n",
      "\n",
      "    group_rows\n",
      "\n",
      "\n",
      "\u001b[1mRows: \u001b[22m\u001b[34m1374\u001b[39m \u001b[1mColumns: \u001b[22m\u001b[34m12\u001b[39m\n",
      "\u001b[36m──\u001b[39m \u001b[1mColumn specification\u001b[22m \u001b[36m────────────────────────────────────────────────────────\u001b[39m\n",
      "\u001b[1mDelimiter:\u001b[22m \",\"\n",
      "\u001b[32mdbl\u001b[39m (12): id, age, sex, bwt, smoke, atopy, fhxasth, resp, wheeze, cyan, los,...\n",
      "\n",
      "\u001b[36mℹ\u001b[39m Use `spec()` to retrieve the full column specification for this data.\n",
      "\u001b[36mℹ\u001b[39m Specify the column types or set `show_col_types = FALSE` to quiet this message.\n"
     ]
    },
    {
     "name": "stdout",
     "output_type": "stream",
     "text": [
      "spc_tbl_ [1,374 × 12] (S3: spec_tbl_df/tbl_df/tbl/data.frame)\n",
      " $ id     : num [1:1374] 1 2 3 4 5 6 7 8 9 10 ...\n",
      " $ age    : num [1:1374] 1 2 12 9 4 3 2 12 3 12 ...\n",
      " $ sex    : num [1:1374] 0 1 0 1 0 1 0 0 1 1 ...\n",
      " $ bwt    : num [1:1374] 3 3 2 3.1 2.8 1.6 2.8 3.4 2 3.5 ...\n",
      " $ smoke  : num [1:1374] 0 1 0 1 1 1 1 1 1 0 ...\n",
      " $ atopy  : num [1:1374] 0 0 0 0 0 0 0 0 0 0 ...\n",
      " $ fhxasth: num [1:1374] 1 0 0 0 0 0 1 0 0 1 ...\n",
      " $ resp   : num [1:1374] 60 60 38 58 44 30 47 35 51 35 ...\n",
      " $ wheeze : num [1:1374] 0 1 0 2 1 1 2 1 2 1 ...\n",
      " $ cyan   : num [1:1374] 2 0 0 0 0 0 1 0 0 0 ...\n",
      " $ los    : num [1:1374] 6 5 10 5 5 8 16 4 2 4 ...\n",
      " $ mmi    : num [1:1374] 1 1 1 1 1 1 1 1 0 1 ...\n",
      " - attr(*, \"spec\")=\n",
      "  .. cols(\n",
      "  ..   id = \u001b[32mcol_double()\u001b[39m,\n",
      "  ..   age = \u001b[32mcol_double()\u001b[39m,\n",
      "  ..   sex = \u001b[32mcol_double()\u001b[39m,\n",
      "  ..   bwt = \u001b[32mcol_double()\u001b[39m,\n",
      "  ..   smoke = \u001b[32mcol_double()\u001b[39m,\n",
      "  ..   atopy = \u001b[32mcol_double()\u001b[39m,\n",
      "  ..   fhxasth = \u001b[32mcol_double()\u001b[39m,\n",
      "  ..   resp = \u001b[32mcol_double()\u001b[39m,\n",
      "  ..   wheeze = \u001b[32mcol_double()\u001b[39m,\n",
      "  ..   cyan = \u001b[32mcol_double()\u001b[39m,\n",
      "  ..   los = \u001b[32mcol_double()\u001b[39m,\n",
      "  ..   mmi = \u001b[32mcol_double()\u001b[39m\n",
      "  .. )\n",
      " - attr(*, \"problems\")=<externalptr> \n",
      "NULL\n"
     ]
    }
   ],
   "source": [
    "library(tidyverse)\n",
    "library(kableExtra)\n",
    "rsv <- read_csv(\"rsv.csv\")\n",
    "str(rsv) %>% print"
   ]
  },
  {
   "attachments": {},
   "cell_type": "markdown",
   "metadata": {},
   "source": [
    "(a) Investigate the association between age and length of hospital stay."
   ]
  },
  {
   "cell_type": "code",
   "execution_count": 2,
   "metadata": {
    "vscode": {
     "languageId": "r"
    }
   },
   "outputs": [
    {
     "name": "stdout",
     "output_type": "stream",
     "text": [
      "[1] -0.223165\n"
     ]
    }
   ],
   "source": [
    "##(a)\n",
    "cor(rsv$age,rsv$los) %>% print"
   ]
  },
  {
   "attachments": {},
   "cell_type": "markdown",
   "metadata": {},
   "source": [
    "(b) Establish a range of typical values for length of hospital stay for children with the following covariate profile:\n",
    "• Eight months of age. • Male.\n",
    "• No wheezing."
   ]
  },
  {
   "cell_type": "code",
   "execution_count": 3,
   "metadata": {
    "vscode": {
     "languageId": "r"
    }
   },
   "outputs": [
    {
     "data": {
      "text/html": [
       "<table class=\"dataframe\">\n",
       "<caption>A tibble: 1 × 2</caption>\n",
       "<thead>\n",
       "\t<tr><th scope=col>lower</th><th scope=col>upper</th></tr>\n",
       "\t<tr><th scope=col>&lt;dbl&gt;</th><th scope=col>&lt;dbl&gt;</th></tr>\n",
       "</thead>\n",
       "<tbody>\n",
       "\t<tr><td>3</td><td>5</td></tr>\n",
       "</tbody>\n",
       "</table>\n"
      ],
      "text/latex": [
       "A tibble: 1 × 2\n",
       "\\begin{tabular}{ll}\n",
       " lower & upper\\\\\n",
       " <dbl> & <dbl>\\\\\n",
       "\\hline\n",
       "\t 3 & 5\\\\\n",
       "\\end{tabular}\n"
      ],
      "text/markdown": [
       "\n",
       "A tibble: 1 × 2\n",
       "\n",
       "| lower &lt;dbl&gt; | upper &lt;dbl&gt; |\n",
       "|---|---|\n",
       "| 3 | 5 |\n",
       "\n"
      ],
      "text/plain": [
       "  lower upper\n",
       "1 3     5    "
      ]
     },
     "metadata": {},
     "output_type": "display_data"
    }
   ],
   "source": [
    "rsv %>%\n",
    "    filter(age == 8,sex == 1) %>%\n",
    "    summarise(lower = quantile(los,0.25),\n",
    "                upper = quantile(los,0.75))\n"
   ]
  },
  {
   "cell_type": "code",
   "execution_count": 4,
   "metadata": {
    "vscode": {
     "languageId": "r"
    }
   },
   "outputs": [
    {
     "data": {
      "text/html": [
       "<table class=\"dataframe\">\n",
       "<caption>A tibble: 1 × 2</caption>\n",
       "<thead>\n",
       "\t<tr><th scope=col>lower</th><th scope=col>upper</th></tr>\n",
       "\t<tr><th scope=col>&lt;dbl&gt;</th><th scope=col>&lt;dbl&gt;</th></tr>\n",
       "</thead>\n",
       "<tbody>\n",
       "\t<tr><td>3</td><td>7</td></tr>\n",
       "</tbody>\n",
       "</table>\n"
      ],
      "text/latex": [
       "A tibble: 1 × 2\n",
       "\\begin{tabular}{ll}\n",
       " lower & upper\\\\\n",
       " <dbl> & <dbl>\\\\\n",
       "\\hline\n",
       "\t 3 & 7\\\\\n",
       "\\end{tabular}\n"
      ],
      "text/markdown": [
       "\n",
       "A tibble: 1 × 2\n",
       "\n",
       "| lower &lt;dbl&gt; | upper &lt;dbl&gt; |\n",
       "|---|---|\n",
       "| 3 | 7 |\n",
       "\n"
      ],
      "text/plain": [
       "  lower upper\n",
       "1 3     7    "
      ]
     },
     "metadata": {},
     "output_type": "display_data"
    }
   ],
   "source": [
    "rsv %>%\n",
    "    filter(wheeze == 0) %>%\n",
    "    summarise(lower = quantile(los,0.25),\n",
    "                upper = quantile(los,0.75))"
   ]
  },
  {
   "attachments": {},
   "cell_type": "markdown",
   "metadata": {},
   "source": [
    "(c) Develop a prediction model for major medical intervention based on the following variables: \n",
    "\n",
    "• Age.\n",
    "• Sex.\n",
    "• Birth weight.\n",
    "• Prior smoke exposure.\n",
    "• Atopy.\n",
    "• Family history of asthma. • Respiratory rate.\n",
    "• Wheezing.\n",
    "• Cyanosis."
   ]
  },
  {
   "cell_type": "code",
   "execution_count": 50,
   "metadata": {
    "vscode": {
     "languageId": "r"
    }
   },
   "outputs": [
    {
     "data": {
      "text/plain": [
       "\n",
       "Call:  cv.glmnet(x = model.matrix(los ~ age * sex * bwt * smoke * atopy *      fhxasth * resp * as.factor(wheeze) * as.factor(cyan), data = train_rsv)[,      -1], y = train_rsv$los, type.measure = \"mse\", nfolds = 10,      family = \"gaussian\") \n",
       "\n",
       "Measure: Mean-Squared Error \n",
       "\n",
       "    Lambda Index Measure    SE Nonzero\n",
       "min 0.1244    39   10.25 1.196      42\n",
       "1se 0.7288     1   10.82 1.202       0"
      ]
     },
     "metadata": {},
     "output_type": "display_data"
    }
   ],
   "source": [
    "## when he said develop a model, does it mean I have free choice of the model?\n",
    "library(caret)\n",
    "library(glmnet)\n",
    "set.seed(123123)\n",
    "train_index = createDataPartition(rsv$los,p = 0.5,list = FALSE)\n",
    "train_rsv = rsv[train_index,]\n",
    "test_rsv = rsv[-train_index,]\n",
    "\n",
    "model_1 = train(x = train_rsv %>% select(-los) %>% as.matrix,\n",
    "                y = train_rsv$los,\n",
    "                method = \"lm\",\n",
    "                trControl = trainControl(method = \"cv\",number = 10),\n",
    "                metric = \"RMSE\")\n",
    "\n",
    "\n",
    "cv.glmnet(\n",
    "                x = \n",
    "    model.matrix(los~age*sex*bwt*smoke*atopy*fhxasth*resp*as.factor(wheeze)*as.factor(cyan),\n",
    "                             data = train_rsv)[,-1],\n",
    "                y = train_rsv$los,\n",
    "                family = \"gaussian\",\n",
    "                type.measure = \"mse\",\n",
    "                nfolds = 10,\n",
    ")\n",
    "model_2 = glmnet(                \n",
    "    x = \n",
    "    model.matrix(los~age*sex*bwt*smoke*atopy*fhxasth*resp*as.factor(wheeze)*as.factor(cyan),\n",
    "                             data = train_rsv)[,-1],\n",
    "                y = train_rsv$los,\n",
    "                alpha = 1,\n",
    "                lambda = 0.1244)"
   ]
  },
  {
   "cell_type": "code",
   "execution_count": 51,
   "metadata": {
    "vscode": {
     "languageId": "r"
    }
   },
   "outputs": [
    {
     "data": {
      "text/html": [
       "7.206809368269"
      ],
      "text/latex": [
       "7.206809368269"
      ],
      "text/markdown": [
       "7.206809368269"
      ],
      "text/plain": [
       "[1] 7.206809"
      ]
     },
     "metadata": {},
     "output_type": "display_data"
    },
    {
     "data": {
      "text/html": [
       "11.5394849718764"
      ],
      "text/latex": [
       "11.5394849718764"
      ],
      "text/markdown": [
       "11.5394849718764"
      ],
      "text/plain": [
       "[1] 11.53948"
      ]
     },
     "metadata": {},
     "output_type": "display_data"
    }
   ],
   "source": [
    "## Predicting error\n",
    "mean((predict(model_1,newdata = test_rsv) - test_rsv$los)^2)\n",
    "mean((predict(model_2,newx = \n",
    "model.matrix(los~age*sex*bwt*smoke*atopy*fhxasth*resp*as.factor(wheeze)*as.factor(cyan),\n",
    "                             data = test_rsv)[,-1] \n",
    ") - test_rsv$los)^2)"
   ]
  },
  {
   "attachments": {},
   "cell_type": "markdown",
   "metadata": {},
   "source": [
    "8. 20 pts You are working with an investigative team that focuses on the use of magnetic resonance imaging (MRI) to understand variation in properties of the spinal cord. One goal in particular is to estimate specific quantiles of spinal cord volume (mm3) in the population. As is often the case, there are many approaches that could be used to accomplish this goal. Consider the following two estimation approaches for estimating the pth quantile of a distribution based on a total of n independently sampled subjects:\n",
    "\n",
    "• An estimate based on the presumption that spinal cord volume follows a normal distribution with mean μ and variance σ2: Q̂(p) = μ̂+Φ\u00101(p)×̂σ, where μ̂ = Xn denotes the sample mean, ̂σ denotes the sample standard deviation, and Φ\u00101(p) denotes the pth quantile of the standard normal distribution.\n",
    "\n",
    "• An estimate that does not make specific assumptions about the underlying distribution of spinal cord volume, based on the inverse of the empirical cumulative distribution function. This can be obtained in R through the command quantile(..., type = 1). Specifying the ‘type’ argument is important, as the default approach is different from the one described here.\n",
    "\n",
    "In this problem, your task is to compare these two estimation approaches using Monte Carlo (simulation) based techniques. Your code for all problems must be turned in as clearly labeled supplementary .R file."
   ]
  },
  {
   "cell_type": "code",
   "execution_count": null,
   "metadata": {
    "vscode": {
     "languageId": "r"
    }
   },
   "outputs": [],
   "source": [
    "## (a) simulation\n",
    "library(foreach)\n",
    "set.seed(123123)\n"
   ]
  }
 ],
 "metadata": {
  "kernelspec": {
   "display_name": "R",
   "language": "R",
   "name": "ir"
  },
  "language_info": {
   "codemirror_mode": "r",
   "file_extension": ".r",
   "mimetype": "text/x-r-source",
   "name": "R",
   "pygments_lexer": "r",
   "version": "4.2.2"
  },
  "orig_nbformat": 4
 },
 "nbformat": 4,
 "nbformat_minor": 2
}
